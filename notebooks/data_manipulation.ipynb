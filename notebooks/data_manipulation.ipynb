{
 "metadata": {
  "language_info": {
   "codemirror_mode": {
    "name": "ipython",
    "version": 3
   },
   "file_extension": ".py",
   "mimetype": "text/x-python",
   "name": "python",
   "nbconvert_exporter": "python",
   "pygments_lexer": "ipython3",
   "version": "3.8.5"
  },
  "orig_nbformat": 4,
  "kernelspec": {
   "name": "python3",
   "display_name": "Python 3.8.5 64-bit ('anaconda3-2020.11': pyenv)"
  },
  "interpreter": {
   "hash": "a0f0fbbf2742dfdc4e6a359a9f9039ee6f84d9c065f1ededfc37f065425179fb"
  }
 },
 "nbformat": 4,
 "nbformat_minor": 2,
 "cells": [
  {
   "cell_type": "code",
   "execution_count": 4,
   "metadata": {},
   "outputs": [],
   "source": [
    "import pandas as pd"
   ]
  },
  {
   "cell_type": "code",
   "execution_count": 5,
   "metadata": {},
   "outputs": [
    {
     "output_type": "execute_result",
     "data": {
      "text/plain": [
       "                   Stig_c1  Stig_c2  Stig_c3  Stig_c4  Stig_c5  Challn_c1  \\\n",
       "ID                                                                          \n",
       "Submission lwgnzw      1.0      NaN      1.0      NaN      NaN        NaN   \n",
       "Comment gph9dfy        NaN      NaN      NaN      NaN      NaN        NaN   \n",
       "Comment gpi5kze        NaN      NaN      NaN      NaN      NaN        NaN   \n",
       "Submission lwgo4f      NaN      NaN      1.0      NaN      1.0        NaN   \n",
       "Comment gph9zt7        NaN      NaN      NaN      NaN      NaN        1.0   \n",
       "\n",
       "                   Challn_c2  Challn_c3  Challn_c4  Challn_c5  \n",
       "ID                                                             \n",
       "Submission lwgnzw        NaN        NaN        NaN        NaN  \n",
       "Comment gph9dfy          NaN        1.0        NaN        NaN  \n",
       "Comment gpi5kze          NaN        1.0        NaN        NaN  \n",
       "Submission lwgo4f        NaN        NaN        NaN        NaN  \n",
       "Comment gph9zt7          NaN        NaN        NaN        NaN  "
      ],
      "text/html": "<div>\n<style scoped>\n    .dataframe tbody tr th:only-of-type {\n        vertical-align: middle;\n    }\n\n    .dataframe tbody tr th {\n        vertical-align: top;\n    }\n\n    .dataframe thead th {\n        text-align: right;\n    }\n</style>\n<table border=\"1\" class=\"dataframe\">\n  <thead>\n    <tr style=\"text-align: right;\">\n      <th></th>\n      <th>Stig_c1</th>\n      <th>Stig_c2</th>\n      <th>Stig_c3</th>\n      <th>Stig_c4</th>\n      <th>Stig_c5</th>\n      <th>Challn_c1</th>\n      <th>Challn_c2</th>\n      <th>Challn_c3</th>\n      <th>Challn_c4</th>\n      <th>Challn_c5</th>\n    </tr>\n    <tr>\n      <th>ID</th>\n      <th></th>\n      <th></th>\n      <th></th>\n      <th></th>\n      <th></th>\n      <th></th>\n      <th></th>\n      <th></th>\n      <th></th>\n      <th></th>\n    </tr>\n  </thead>\n  <tbody>\n    <tr>\n      <th>Submission lwgnzw</th>\n      <td>1.0</td>\n      <td>NaN</td>\n      <td>1.0</td>\n      <td>NaN</td>\n      <td>NaN</td>\n      <td>NaN</td>\n      <td>NaN</td>\n      <td>NaN</td>\n      <td>NaN</td>\n      <td>NaN</td>\n    </tr>\n    <tr>\n      <th>Comment gph9dfy</th>\n      <td>NaN</td>\n      <td>NaN</td>\n      <td>NaN</td>\n      <td>NaN</td>\n      <td>NaN</td>\n      <td>NaN</td>\n      <td>NaN</td>\n      <td>1.0</td>\n      <td>NaN</td>\n      <td>NaN</td>\n    </tr>\n    <tr>\n      <th>Comment gpi5kze</th>\n      <td>NaN</td>\n      <td>NaN</td>\n      <td>NaN</td>\n      <td>NaN</td>\n      <td>NaN</td>\n      <td>NaN</td>\n      <td>NaN</td>\n      <td>1.0</td>\n      <td>NaN</td>\n      <td>NaN</td>\n    </tr>\n    <tr>\n      <th>Submission lwgo4f</th>\n      <td>NaN</td>\n      <td>NaN</td>\n      <td>1.0</td>\n      <td>NaN</td>\n      <td>1.0</td>\n      <td>NaN</td>\n      <td>NaN</td>\n      <td>NaN</td>\n      <td>NaN</td>\n      <td>NaN</td>\n    </tr>\n    <tr>\n      <th>Comment gph9zt7</th>\n      <td>NaN</td>\n      <td>NaN</td>\n      <td>NaN</td>\n      <td>NaN</td>\n      <td>NaN</td>\n      <td>1.0</td>\n      <td>NaN</td>\n      <td>NaN</td>\n      <td>NaN</td>\n      <td>NaN</td>\n    </tr>\n  </tbody>\n</table>\n</div>"
     },
     "metadata": {},
     "execution_count": 5
    }
   ],
   "source": [
    "stigma = pd.read_csv('../data/input/2021-03-02T19:23:10/new_stigma.csv', index_col='ID')\n",
    "stigmaj = pd.read_csv('../data/input/2021-03-02T19:23:10/stigma-j.csv', index_col='ID')\n",
    "\n",
    "stigmaj = stigmaj.loc[stigma.index,:]\n",
    "stigma.loc[stigmaj.dropna(how='all').index,:] = stigmaj.dropna(how='all')\n",
    "stigma = stigma.dropna(how='all')\n",
    "stigma.head()"
   ]
  },
  {
   "cell_type": "code",
   "execution_count": 6,
   "metadata": {},
   "outputs": [],
   "source": [
    "stigma.to_csv('../data/output/20210302T19:23:10_stigma.csv')"
   ]
  },
  {
   "cell_type": "code",
   "execution_count": null,
   "metadata": {},
   "outputs": [],
   "source": []
  }
 ]
}