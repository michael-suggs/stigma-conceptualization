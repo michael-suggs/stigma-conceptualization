{
 "metadata": {
  "language_info": {
   "codemirror_mode": {
    "name": "ipython",
    "version": 3
   },
   "file_extension": ".py",
   "mimetype": "text/x-python",
   "name": "python",
   "nbconvert_exporter": "python",
   "pygments_lexer": "ipython3",
   "version": "3.8.5"
  },
  "orig_nbformat": 2,
  "kernelspec": {
   "name": "python385jvsc74a57bd0a0f0fbbf2742dfdc4e6a359a9f9039ee6f84d9c065f1ededfc37f065425179fb",
   "display_name": "Python 3.8.5 64-bit ('anaconda3-2020.11': pyenv)"
  }
 },
 "nbformat": 4,
 "nbformat_minor": 2,
 "cells": [
  {
   "cell_type": "code",
   "execution_count": 47,
   "metadata": {},
   "outputs": [],
   "source": [
    "import csv\n",
    "import sys\n",
    "\n",
    "import pandas as pd"
   ]
  },
  {
   "cell_type": "code",
   "execution_count": 36,
   "metadata": {},
   "outputs": [],
   "source": [
    "sys.path.append('..')"
   ]
  },
  {
   "cell_type": "code",
   "execution_count": 37,
   "metadata": {},
   "outputs": [],
   "source": [
    "from stigmapyze.common.reddit import Comment, Submission"
   ]
  },
  {
   "cell_type": "code",
   "execution_count": 33,
   "metadata": {},
   "outputs": [],
   "source": [
    "STIGMA_HEADER = [\n",
    "    'ID', 'Stig_c1', 'Stig_c2', 'Stig_c3', 'Stig_c4', 'Stig_c5',\n",
    "    'Challn_c1', 'Challn_c2', 'Challn_c3', 'Challn_c4', 'Challn_c5']"
   ]
  },
  {
   "cell_type": "code",
   "execution_count": 3,
   "metadata": {},
   "outputs": [],
   "source": [
    "stg = pd.read_csv('../data/input/2021-03-02T19:23:10/2021-03-02T19:23:10-stigma.csv')\n",
    "cmt = pd.read_csv('../data/input/2021-03-02T19:23:10/2021-03-02T19:23:10-comments.csv')\n",
    "sub = pd.read_csv('../data/input/2021-03-02T19:23:10/2021-03-02T19:23:10-submissions.csv')"
   ]
  },
  {
   "cell_type": "code",
   "execution_count": 5,
   "metadata": {},
   "outputs": [],
   "source": [
    "cmt.link_id = cmt.link_id.str.extract('t3_(.*)')"
   ]
  },
  {
   "cell_type": "code",
   "execution_count": 58,
   "metadata": {},
   "outputs": [
    {
     "output_type": "execute_result",
     "data": {
      "text/plain": [
       "           created_utc       id  score           author  is_submitter  \\\n",
       "0  2021-03-02T19:31:43  gph9dfy      1    the-big-peper         False   \n",
       "1  2021-03-03T00:23:21  gpi5kze      1   PotentialAd375         False   \n",
       "2  2021-03-02T19:28:51  gph919t      1         Xkeletal         False   \n",
       "3  2021-03-02T19:37:05  gph9zt7      1  YouChemical4215         False   \n",
       "5  2021-03-02T19:50:13  gphbj8i      2         Xkeletal         False   \n",
       "\n",
       "  parent_id link_id                                               body  \n",
       "0    lwgnzw  lwgnzw  Please do not do what ever you are about to do...  \n",
       "1    lwgnzw  lwgnzw          me and big pepper are here to talk to you  \n",
       "2    lwgo4f  lwgo4f  My life went downhill during my a levels. What...  \n",
       "3    lwgo4f  lwgo4f  if there is a downhill in life there always mu...  \n",
       "5   gphajg9  lwgo4f  I see. The good thing here is you're honest ab...  "
      ],
      "text/html": "<div>\n<style scoped>\n    .dataframe tbody tr th:only-of-type {\n        vertical-align: middle;\n    }\n\n    .dataframe tbody tr th {\n        vertical-align: top;\n    }\n\n    .dataframe thead th {\n        text-align: right;\n    }\n</style>\n<table border=\"1\" class=\"dataframe\">\n  <thead>\n    <tr style=\"text-align: right;\">\n      <th></th>\n      <th>created_utc</th>\n      <th>id</th>\n      <th>score</th>\n      <th>author</th>\n      <th>is_submitter</th>\n      <th>parent_id</th>\n      <th>link_id</th>\n      <th>body</th>\n    </tr>\n  </thead>\n  <tbody>\n    <tr>\n      <th>0</th>\n      <td>2021-03-02T19:31:43</td>\n      <td>gph9dfy</td>\n      <td>1</td>\n      <td>the-big-peper</td>\n      <td>False</td>\n      <td>lwgnzw</td>\n      <td>lwgnzw</td>\n      <td>Please do not do what ever you are about to do...</td>\n    </tr>\n    <tr>\n      <th>1</th>\n      <td>2021-03-03T00:23:21</td>\n      <td>gpi5kze</td>\n      <td>1</td>\n      <td>PotentialAd375</td>\n      <td>False</td>\n      <td>lwgnzw</td>\n      <td>lwgnzw</td>\n      <td>me and big pepper are here to talk to you</td>\n    </tr>\n    <tr>\n      <th>2</th>\n      <td>2021-03-02T19:28:51</td>\n      <td>gph919t</td>\n      <td>1</td>\n      <td>Xkeletal</td>\n      <td>False</td>\n      <td>lwgo4f</td>\n      <td>lwgo4f</td>\n      <td>My life went downhill during my a levels. What...</td>\n    </tr>\n    <tr>\n      <th>3</th>\n      <td>2021-03-02T19:37:05</td>\n      <td>gph9zt7</td>\n      <td>1</td>\n      <td>YouChemical4215</td>\n      <td>False</td>\n      <td>lwgo4f</td>\n      <td>lwgo4f</td>\n      <td>if there is a downhill in life there always mu...</td>\n    </tr>\n    <tr>\n      <th>5</th>\n      <td>2021-03-02T19:50:13</td>\n      <td>gphbj8i</td>\n      <td>2</td>\n      <td>Xkeletal</td>\n      <td>False</td>\n      <td>gphajg9</td>\n      <td>lwgo4f</td>\n      <td>I see. The good thing here is you're honest ab...</td>\n    </tr>\n  </tbody>\n</table>\n</div>"
     },
     "metadata": {},
     "execution_count": 58
    }
   ],
   "source": [
    "subcmt = sub[['id']].merge(cmt, left_on='id', right_on='link_id', suffixes=['_sub', '_cmt'])\n",
    "subcmt = subcmt.drop('id_sub', axis=1).rename({'id_cmt': 'id'}, axis=1)\n",
    "# subcmt.link_id = subcmt.link_id.apply(lambda t: f't3_{t}')\n",
    "subcmt = subcmt[subcmt.is_submitter == False]\n",
    "subcmt.head()"
   ]
  },
  {
   "cell_type": "code",
   "execution_count": 56,
   "metadata": {},
   "outputs": [],
   "source": [
    "subcmt.to_csv(f'{csvbase}/new_comments.csv')"
   ]
  },
  {
   "cell_type": "code",
   "execution_count": 59,
   "metadata": {},
   "outputs": [
    {
     "output_type": "execute_result",
     "data": {
      "text/plain": [
       "           created_utc      id  score                author  \\\n",
       "0  2021-03-02T19:25:23  lwgnzw      1     Gocrazygostupid18   \n",
       "1  2021-03-02T19:25:34  lwgo4f      1  violet-wakes-to-dawn   \n",
       "2  2021-03-02T19:26:11  lwgoi7      1        Ok_Double_7030   \n",
       "3  2021-03-02T19:26:15  lwgoja      1              Xkeletal   \n",
       "5  2021-03-02T19:34:39  lwgu79      1  ISimplyHateUsernames   \n",
       "\n",
       "                                               title  \\\n",
       "0  How Do I Hang Myself With A Belt In A Walk-In ...   \n",
       "1                              I'm a fucking failure   \n",
       "2  How can I make my death easier on the people I...   \n",
       "3  It is my birthday. I am steadfast, in the vein...   \n",
       "5  So many people say don't do it because you fam...   \n",
       "\n",
       "                                           full_link  \\\n",
       "0  https://www.reddit.com/r/SuicideWatch/comments...   \n",
       "1  https://www.reddit.com/r/SuicideWatch/comments...   \n",
       "2  https://www.reddit.com/r/SuicideWatch/comments...   \n",
       "3  https://www.reddit.com/r/SuicideWatch/comments...   \n",
       "5  https://www.reddit.com/r/SuicideWatch/comments...   \n",
       "\n",
       "                                            selftext  \\\n",
       "0  I really want to die, I feel like there’s noth...   \n",
       "1  I'm in year 11 but my entire high school atten...   \n",
       "2  I have decided that I no longer care about liv...   \n",
       "3  I am a highschool dropout and college dropout....   \n",
       "5  From young age until basically now I had alway...   \n",
       "\n",
       "                                            comments  \n",
       "0                                 [gph9dfy, gpi5kze]  \n",
       "1                        [gph919t, gph9zt7, gphbj8i]  \n",
       "2  [gph998g, gphbrdp, gphcf6h, gphcolr, gphcxx3, ...  \n",
       "3                                 [gpha6hd, gphbnq1]  \n",
       "5                                          [gpmk7aa]  "
      ],
      "text/html": "<div>\n<style scoped>\n    .dataframe tbody tr th:only-of-type {\n        vertical-align: middle;\n    }\n\n    .dataframe tbody tr th {\n        vertical-align: top;\n    }\n\n    .dataframe thead th {\n        text-align: right;\n    }\n</style>\n<table border=\"1\" class=\"dataframe\">\n  <thead>\n    <tr style=\"text-align: right;\">\n      <th></th>\n      <th>created_utc</th>\n      <th>id</th>\n      <th>score</th>\n      <th>author</th>\n      <th>title</th>\n      <th>full_link</th>\n      <th>selftext</th>\n      <th>comments</th>\n    </tr>\n  </thead>\n  <tbody>\n    <tr>\n      <th>0</th>\n      <td>2021-03-02T19:25:23</td>\n      <td>lwgnzw</td>\n      <td>1</td>\n      <td>Gocrazygostupid18</td>\n      <td>How Do I Hang Myself With A Belt In A Walk-In ...</td>\n      <td>https://www.reddit.com/r/SuicideWatch/comments...</td>\n      <td>I really want to die, I feel like there’s noth...</td>\n      <td>[gph9dfy, gpi5kze]</td>\n    </tr>\n    <tr>\n      <th>1</th>\n      <td>2021-03-02T19:25:34</td>\n      <td>lwgo4f</td>\n      <td>1</td>\n      <td>violet-wakes-to-dawn</td>\n      <td>I'm a fucking failure</td>\n      <td>https://www.reddit.com/r/SuicideWatch/comments...</td>\n      <td>I'm in year 11 but my entire high school atten...</td>\n      <td>[gph919t, gph9zt7, gphbj8i]</td>\n    </tr>\n    <tr>\n      <th>2</th>\n      <td>2021-03-02T19:26:11</td>\n      <td>lwgoi7</td>\n      <td>1</td>\n      <td>Ok_Double_7030</td>\n      <td>How can I make my death easier on the people I...</td>\n      <td>https://www.reddit.com/r/SuicideWatch/comments...</td>\n      <td>I have decided that I no longer care about liv...</td>\n      <td>[gph998g, gphbrdp, gphcf6h, gphcolr, gphcxx3, ...</td>\n    </tr>\n    <tr>\n      <th>3</th>\n      <td>2021-03-02T19:26:15</td>\n      <td>lwgoja</td>\n      <td>1</td>\n      <td>Xkeletal</td>\n      <td>It is my birthday. I am steadfast, in the vein...</td>\n      <td>https://www.reddit.com/r/SuicideWatch/comments...</td>\n      <td>I am a highschool dropout and college dropout....</td>\n      <td>[gpha6hd, gphbnq1]</td>\n    </tr>\n    <tr>\n      <th>5</th>\n      <td>2021-03-02T19:34:39</td>\n      <td>lwgu79</td>\n      <td>1</td>\n      <td>ISimplyHateUsernames</td>\n      <td>So many people say don't do it because you fam...</td>\n      <td>https://www.reddit.com/r/SuicideWatch/comments...</td>\n      <td>From young age until basically now I had alway...</td>\n      <td>[gpmk7aa]</td>\n    </tr>\n  </tbody>\n</table>\n</div>"
     },
     "metadata": {},
     "execution_count": 59
    }
   ],
   "source": [
    "newsub = sub.drop('comments', axis=1).merge(pd.DataFrame(subcmt.groupby('link_id').apply(lambda g: list(g.id))), left_on='id', right_index=True).rename({0: 'comments'}, axis=1)\n",
    "newsub.head()"
   ]
  },
  {
   "cell_type": "code",
   "execution_count": 60,
   "metadata": {},
   "outputs": [],
   "source": [
    "newsub.to_csv(f'{csvbase}/new_submissions.csv')"
   ]
  },
  {
   "cell_type": "code",
   "execution_count": 45,
   "metadata": {},
   "outputs": [],
   "source": [
    "csvbase = '../data/input/2021-03-02T19:23:10/'"
   ]
  },
  {
   "cell_type": "code",
   "execution_count": 49,
   "metadata": {},
   "outputs": [
    {
     "output_type": "execute_result",
     "data": {
      "text/plain": [
       "94"
      ]
     },
     "metadata": {},
     "execution_count": 49
    }
   ],
   "source": [
    "def stigma_row(id: str, t) -> dict:\n",
    "    row = {col: '' for col in STIGMA_HEADER}\n",
    "    row['ID'] = f'{t} {id}'\n",
    "    return row\n"
   ]
  },
  {
   "cell_type": "code",
   "execution_count": 51,
   "metadata": {},
   "outputs": [],
   "source": [
    "newsub.to_csv(f'{csvbase}/new_submissions.csv')\n",
    "subcmt.to_csv(f'{csvbase}/new_comments.csv')"
   ]
  },
  {
   "cell_type": "code",
   "execution_count": 61,
   "metadata": {},
   "outputs": [],
   "source": [
    "stgf = open(f'{csvbase}/new_stigma.csv', 'w')\n",
    "stg_csv = csv.DictWriter(stgf, fieldnames=STIGMA_HEADER)\n",
    "stg_csv.writeheader()\n",
    "\n",
    "for row in newsub.itertuples():\n",
    "    stg_csv.writerow(stigma_row(row.id, 'Submission'))\n",
    "    for cid in row.comments:\n",
    "        stg_csv.writerow(stigma_row(cid, 'Comment'))\n",
    "\n",
    "stgf.close()"
   ]
  },
  {
   "cell_type": "code",
   "execution_count": null,
   "metadata": {},
   "outputs": [],
   "source": []
  }
 ]
}